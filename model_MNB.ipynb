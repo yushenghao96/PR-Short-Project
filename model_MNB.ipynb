{
 "cells": [
  {
   "cell_type": "markdown",
   "metadata": {},
   "source": [
    "https://heartbeat.comet.ml/using-machine-learning-for-language-detection-517fa6e68f22"
   ]
  },
  {
   "cell_type": "code",
   "execution_count": 215,
   "metadata": {},
   "outputs": [],
   "source": [
    "import numpy as np\n",
    "import pandas as pd\n",
    "import os\n",
    "import re\n",
    "import matplotlib.pyplot as plt\n",
    "import seaborn as sns\n",
    "\n",
    "from sklearn.model_selection import train_test_split\n",
    "\n",
    "from sklearn.feature_extraction.text import CountVectorizer\n",
    "from sklearn.naive_bayes import MultinomialNB\n",
    "\n",
    "from sklearn.metrics import accuracy_score, confusion_matrix, classification_report\n",
    "\n",
    "from sklearn.preprocessing import LabelEncoder"
   ]
  },
  {
   "cell_type": "code",
   "execution_count": 216,
   "metadata": {},
   "outputs": [
    {
     "name": "stderr",
     "output_type": "stream",
     "text": [
      "c:\\RoboDK\\Python37\\lib\\site-packages\\pandas\\util\\_decorators.py:311: ParserWarning: Falling back to the 'python' engine because the 'c' engine does not support regex separators (separators > 1 char and different from '\\s+' are interpreted as regex); you can avoid this warning by specifying engine='python'.\n",
      "  return func(*args, **kwargs)\n"
     ]
    }
   ],
   "source": [
    "files ={\n",
    "    'Spanish' : 'Spanish',\n",
    "    'English' : 'English',\n",
    "    #'German1' : 'German',\n",
    "    'German2' : 'German',\n",
    "    'French1' : 'French',\n",
    "    'French2' : 'French'\n",
    "}\n",
    "\n",
    "file_directory = os.getcwd()\n",
    "extractedText_folder = 'ExtractedText/'\n",
    "\n",
    "df_cv_full = pd.DataFrame()\n",
    "for file in files:\n",
    "    df_cv_language = pd.read_csv(file_directory + '/' + extractedText_folder + '/' + file + '.txt', delimiter=\"qwer\", names=[\"Sentence\"], encoding='utf-8', header=None)\n",
    "    df_cv_language['Class'] = files[file]\n",
    "    df_cv_full = pd.concat([df_cv_full, df_cv_language.iloc[:5000]], ignore_index=True)\n",
    "    df_cv_full = df_cv_full.reindex(range(df_cv_full.shape[0]))\n",
    "\n",
    "x_cv = df_cv_full['Sentence']\n",
    "y_cv = df_cv_full['Class']"
   ]
  },
  {
   "cell_type": "code",
   "execution_count": 217,
   "metadata": {},
   "outputs": [
    {
     "data": {
      "text/plain": [
       "Spanish    5000\n",
       "English    5000\n",
       "German     5000\n",
       "French     4490\n",
       "Name: Class, dtype: int64"
      ]
     },
     "execution_count": 217,
     "metadata": {},
     "output_type": "execute_result"
    }
   ],
   "source": [
    "df_cv_full[\"Class\"].value_counts()"
   ]
  },
  {
   "cell_type": "code",
   "execution_count": 218,
   "metadata": {},
   "outputs": [],
   "source": [
    "le = LabelEncoder()\n",
    "y_cv = le.fit_transform(y_cv)"
   ]
  },
  {
   "cell_type": "code",
   "execution_count": 219,
   "metadata": {},
   "outputs": [],
   "source": [
    "text_list = []\n",
    "for text in x_cv:\n",
    "        text = re.sub(r'[!@#$(),n\"%^*?:;~`0-9]', ' ', text)\n",
    "        text = re.sub(r'[[]]', ' ', text)\n",
    "        text = text.lower()\n",
    "        text_list.append(text)"
   ]
  },
  {
   "cell_type": "code",
   "execution_count": 220,
   "metadata": {},
   "outputs": [
    {
     "data": {
      "text/plain": [
       "(19490, 45680)"
      ]
     },
     "execution_count": 220,
     "metadata": {},
     "output_type": "execute_result"
    }
   ],
   "source": [
    "cv = CountVectorizer()\n",
    "x_cv_n = cv.fit_transform(x_cv).toarray()\n",
    "x_cv_n.shape"
   ]
  },
  {
   "cell_type": "code",
   "execution_count": 221,
   "metadata": {},
   "outputs": [],
   "source": [
    "x_cv_train, x_cv_test, y_cv_train, y_cv_test = train_test_split(x_cv_n, y_cv, test_size = 0.20)"
   ]
  },
  {
   "cell_type": "code",
   "execution_count": 222,
   "metadata": {},
   "outputs": [
    {
     "data": {
      "text/plain": [
       "MultinomialNB()"
      ]
     },
     "execution_count": 222,
     "metadata": {},
     "output_type": "execute_result"
    }
   ],
   "source": [
    "modelMNB = MultinomialNB()\n",
    "modelMNB.fit(x_cv_train, y_cv_train)"
   ]
  },
  {
   "cell_type": "code",
   "execution_count": 223,
   "metadata": {},
   "outputs": [],
   "source": [
    "y_cv_prediction = modelMNB.predict(x_cv_test)"
   ]
  },
  {
   "cell_type": "code",
   "execution_count": 224,
   "metadata": {},
   "outputs": [
    {
     "name": "stdout",
     "output_type": "stream",
     "text": [
      "The accuracy is : 0.9992303745510518\n"
     ]
    }
   ],
   "source": [
    "accuracy_cv = accuracy_score(y_cv_test, y_cv_prediction)\n",
    "confusion_m_cv = confusion_matrix(y_cv_test, y_cv_prediction)\n",
    "print(\"The accuracy is :\", accuracy_cv)"
   ]
  },
  {
   "cell_type": "code",
   "execution_count": 225,
   "metadata": {},
   "outputs": [
    {
     "name": "stdout",
     "output_type": "stream",
     "text": [
      "              precision    recall  f1-score   support\n",
      "\n",
      "     Spanish       1.00      1.00      1.00      1021\n",
      "     English       1.00      1.00      1.00       889\n",
      "      German       1.00      1.00      1.00       992\n",
      "      French       1.00      1.00      1.00       996\n",
      "\n",
      "    accuracy                           1.00      3898\n",
      "   macro avg       1.00      1.00      1.00      3898\n",
      "weighted avg       1.00      1.00      1.00      3898\n",
      "\n"
     ]
    }
   ],
   "source": [
    "label_names = ['Spanish','English','German','French']\n",
    "print(classification_report(y_cv_test, y_cv_prediction, target_names=label_names))"
   ]
  },
  {
   "cell_type": "code",
   "execution_count": 226,
   "metadata": {},
   "outputs": [
    {
     "data": {
      "image/png": "[encoded data removed]",
      "text/plain": [
       "<Figure size 1500x1000 with 2 Axes>"
      ]
     },
     "metadata": {},
     "output_type": "display_data"
    }
   ],
   "source": [
    "plt.figure(figsize=(15,10))\n",
    "sns.heatmap(confusion_m_cv, annot = True)\n",
    "plt.show()"
   ]
  },
  {
   "cell_type": "code",
   "execution_count": 227,
   "metadata": {},
   "outputs": [],
   "source": [
    "def lang_predict(text):\n",
    "     x = cv.transform([text]).toarray() \n",
    "     lang = modelMNB.predict(x)\n",
    "     lang = le.inverse_transform(lang) \n",
    "     print(\"The language is in\",lang[0])"
   ]
  },
  {
   "cell_type": "code",
   "execution_count": 228,
   "metadata": {},
   "outputs": [
    {
     "name": "stdout",
     "output_type": "stream",
     "text": [
      "The language is in Spanish\n"
     ]
    }
   ],
   "source": [
    "lang_predict(\"Hola buenos días qué tal estás\")"
   ]
  },
  {
   "cell_type": "code",
   "execution_count": 229,
   "metadata": {},
   "outputs": [
    {
     "name": "stdout",
     "output_type": "stream",
     "text": [
      "The language is in Spanish\n"
     ]
    }
   ],
   "source": [
    "import pickle\n",
    "import pandas\n",
    "filename = 'Trained_model.sav'\n",
    "pickle.dump(modelMNB, open(filename, 'wb'))\n",
    "filename = 'cv.sav'\n",
    "pickle.dump(modelMNB, open(filename, 'wb'))\n",
    "\n",
    "loaded_model = pickle.load(open(filename, 'rb'))\n",
    "\n",
    "\n",
    "def lang_predict(text):\n",
    "     x = cv.transform([text]).toarray() \n",
    "     lang = loaded_model.predict(x)\n",
    "     lang = le.inverse_transform(lang)\n",
    "     print(\"The language is in\",lang[0])\n",
    "\n",
    "\n",
    "lang_predict('valla la cabaya')"
   ]
  },
  {
   "cell_type": "code",
   "execution_count": 231,
   "metadata": {},
   "outputs": [
    {
     "name": "stdout",
     "output_type": "stream",
     "text": [
      "The language is in Spanish\n"
     ]
    }
   ],
   "source": [
    "import pickle\n",
    "import pandas\n",
    "\n",
    "filename_model = 'Trained_model.sav'\n",
    "filename_le = 'le.sav'\n",
    "filename_cv = 'cv.sav'\n",
    "\n",
    "pickle.dump(modelMNB, open(filename_model, 'wb'))\n",
    "pickle.dump(cv, open(filename_cv, 'wb'))\n",
    "pickle.dump(le, open(filename_le, 'wb'))\n",
    "\n",
    "\n",
    "loaded_model = pickle.load(open(filename_model, 'rb'))\n",
    "cv_loaded = pickle.load(open(filename_cv, 'rb'))\n",
    "le_loaded = pickle.load(open(filename_le, 'rb'))\n",
    "\n",
    "def lang_predict(text):\n",
    "     x = cv_loaded.transform([text]).toarray() \n",
    "     lang = loaded_model.predict(x)\n",
    "     lang = le_loaded.inverse_transform(lang)\n",
    "     print(\"The language is in\",lang[0])\n",
    "\n",
    "lang_predict('valla la cabaya')"
   ]
  },
  {
   "cell_type": "code",
   "execution_count": null,
   "metadata": {},
   "outputs": [
    {
     "name": "stdout",
     "output_type": "stream",
     "text": [
      "The language is in English\n"
     ]
    }
   ],
   "source": [
    "lang_predict('How are you')"
   ]
  }
 ],
 "metadata": {
  "kernelspec": {
   "display_name": "Python 3",
   "language": "python",
   "name": "python3"
  },
  "language_info": {
   "codemirror_mode": {
    "name": "ipython",
    "version": 3
   },
   "file_extension": ".py",
   "mimetype": "text/x-python",
   "name": "python",
   "nbconvert_exporter": "python",
   "pygments_lexer": "ipython3",
   "version": "3.9.13"
  }
 },
 "nbformat": 4,
 "nbformat_minor": 2
}
