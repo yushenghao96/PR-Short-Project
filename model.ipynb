{
 "cells": [
  {
   "cell_type": "code",
   "execution_count": 6,
   "metadata": {},
   "outputs": [],
   "source": [
    "# importing required modules\n",
    "from pypdf import PdfReader\n",
    "import pandas as pd\n",
    "import os\n",
    "\n",
    "\n",
    "# directories and file name\n",
    "extractedFeatures_folder = 'ExtractedFeatures/'\n",
    "script_name = 'model.py'\n",
    "file_directory = os.getcwd() + '/'\n",
    "\n",
    "# config\n",
    "languages = [\n",
    "    'Spanish',\n",
    "    'English',\n",
    "    'German',\n",
    "    'French']"
   ]
  },
  {
   "cell_type": "code",
   "execution_count": 7,
   "metadata": {},
   "outputs": [],
   "source": [
    "df = pd.read_csv(file_directory + extractedFeatures_folder + 'English' + '.csv', delimiter=\";\", encoding='utf-8')\n",
    "df.head"
   ]
  }
 ],
 "metadata": {
  "kernelspec": {
   "display_name": "venv",
   "language": "python",
   "name": "python3"
  },
  "language_info": {
   "codemirror_mode": {
    "name": "ipython",
    "version": 3
   },
   "file_extension": ".py",
   "mimetype": "text/x-python",
   "name": "python",
   "nbconvert_exporter": "python",
   "pygments_lexer": "ipython3",
   "version": "3.8.6"
  }
 },
 "nbformat": 4,
 "nbformat_minor": 2
}
